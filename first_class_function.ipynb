{
 "cells": [
  {
   "cell_type": "markdown",
   "metadata": {},
   "source": [
    "URL https://www.youtube.com/watch?v=kr0mpwqttM0&ab_channel=CoreySchafer"
   ]
  },
  {
   "cell_type": "markdown",
   "metadata": {},
   "source": [
    "GENERAL KNOWLEDGE\n",
    "First-Class Functions:\n",
    "\"A Programming language is said to have first-class functions if it treats functions as first-class citizens.\"\n",
    "\n",
    "First-Class Citizen (Programming) :\n",
    "\n",
    "\"A first-class citizen (sometimes called first-class objects) in a programming language is an entity which supports all the\n",
    "operations generally available to other entities. These operations typically include being passed as an argument, returned from a\n",
    "function, and assigned to a variable.\"\n"
   ]
  },
  {
   "cell_type": "markdown",
   "metadata": {},
   "source": [
    "Background info on code: We have function 5 and we set variable f equal to square 5. When this code runs it will print the locaiton of square due to the lack of string so it will print <function square at 0x101278950>\n",
    "which is the location of the function meanwhile f is prints out 25 not function location.\n",
    "\n",
    "Knowledge: So whats happening here is an example of assigning a variable to the output of a function rather then assigning the function which is what we want to do in order to create first class function."
   ]
  },
  {
   "cell_type": "code",
   "execution_count": 8,
   "metadata": {},
   "outputs": [
    {
     "name": "stdout",
     "output_type": "stream",
     "text": [
      "<function square at 0x10d0fadd0>\n",
      "25\n"
     ]
    }
   ],
   "source": [
    "def square(x):\n",
    "    return x * x\n",
    "\n",
    "f = square(5)\n",
    "\n",
    "print(square)\n",
    "print(f)"
   ]
  },
  {
   "cell_type": "markdown",
   "metadata": {},
   "source": [
    "Background info on code: So its the same code as before fundementally its the same thing removing the parenthis, rather then calling on it using paranthesis, your setting the variable to the the function as you will see the difference in outputs now they are both <function square at 0x10d0fac20>. \n",
    "\n",
    "Knowledge: As you see the new print statment the code still work you just call f() now that it has been set to the square function. if a function accepts other functions as arguments or returns functions as their result that's what you call a higher-order function"
   ]
  },
  {
   "cell_type": "code",
   "execution_count": 9,
   "metadata": {},
   "outputs": [
    {
     "name": "stdout",
     "output_type": "stream",
     "text": [
      "<function square at 0x10d0faef0>\n",
      "<function square at 0x10d0faef0>\n",
      "25\n"
     ]
    }
   ],
   "source": [
    "def square(x):\n",
    "    return x * x\n",
    "\n",
    "f = square\n",
    "\n",
    "print (square)\n",
    "print(f)\n",
    "print(f(5))\n",
    "\n"
   ]
  },
  {
   "cell_type": "markdown",
   "metadata": {},
   "source": [
    "Background info on code: An example of passing a function as an argument to another function. So this the map function what it does is it takes an array and inputs all the elments into a functiona and then returns a record through the return = []. Note the importance of the call of mymap() for the squares variable\n",
    "\n",
    "Knowledge: The importance of this is look at the Sqaures variable as it just result of the mymap() function which not important but what is how it calls the square() function as a variable. Look how simply I can switch in out functions to amke life easier\n",
    "\n"
   ]
  },
  {
   "cell_type": "code",
   "execution_count": 11,
   "metadata": {},
   "outputs": [
    {
     "name": "stdout",
     "output_type": "stream",
     "text": [
      "[1, 4, 9, 16, 25]\n",
      "[1, 4, 9, 16, 25]\n"
     ]
    }
   ],
   "source": [
    "def square(x):\n",
    "    return x * x\n",
    "\n",
    "def cube(x):\n",
    "    return x * x * x\n",
    "\n",
    "def my_map(func, arg_list):\n",
    "    result = []\n",
    "    for i in arg_list: \n",
    "        result.append(func(i))\n",
    "    return result\n",
    "\n",
    "squares = my_map(square, [1, 2, 3, 4, 5])\n",
    "print(squares)\n",
    "cubes = my_map(cube, [1, 2, 3, 4, 5])\n",
    "print(squares)\n"
   ]
  },
  {
   "cell_type": "markdown",
   "metadata": {},
   "source": [
    "Background info on code: An example of return a function from another function. So this is a logger() function it takes in a msg argument. Then creates and uses log_message() function to print the logger(msg) but with 'Log:' before it. And it return the log_message() function. \n",
    "\n",
    "Knowledge: Know look at log_hi variable as it now is not only the variable, but also a function now if you look in the line below it"
   ]
  },
  {
   "cell_type": "code",
   "execution_count": 12,
   "metadata": {},
   "outputs": [
    {
     "name": "stdout",
     "output_type": "stream",
     "text": [
      "Log: Hi!\n"
     ]
    }
   ],
   "source": [
    "def logger (msg):\n",
    "\n",
    "    def log_message():\n",
    "        print('Log:', msg)\n",
    "\n",
    "    return log_message\n",
    "\n",
    "log_hi = logger('Hi!')\n",
    "log_hi()"
   ]
  },
  {
   "cell_type": "markdown",
   "metadata": {},
   "source": [
    "Background info on code: Here is the html_tag(tag) function which takes in an argument called tag and within this function there is another fuctionn called wrap_text(msg) which takes in the argument called msg and when it is executed it will print out '<tag><msg></tag>' and we are returning this wrapped text function. Turned print_h1 variable into a function which is why it prints the location.\n",
    "\n",
    "Knowledge: This a pratical applicattion of the the knowlege above. Now print_h1 is a half finshed function so what it does any argument used inside a new instance in the function is called in will be used to finsished the half compteed  html_tag('h1') function.  So therefore it returned a function that is now very adaptable"
   ]
  },
  {
   "cell_type": "code",
   "execution_count": 15,
   "metadata": {},
   "outputs": [
    {
     "name": "stdout",
     "output_type": "stream",
     "text": [
      "<function html_tag.<locals>.wrap_text at 0x10dd731c0>\n",
      "<h1>Test Headline! </h1>\n",
      "<h1>Another Headline! </h1>\n",
      "<p>Test Paragraph! </p>\n"
     ]
    }
   ],
   "source": [
    "def html_tag(tag):\n",
    "\n",
    "    def wrap_text(msg):\n",
    "        print('<{0}>{1}</{0}>'.format(tag, msg) )\n",
    "\n",
    "    return wrap_text\n",
    "\n",
    "print_h1 = html_tag('h1')\n",
    "print(print_h1)\n",
    "print_h1('Test Headline! ')\n",
    "print_h1('Another Headline! ')\n",
    "\n",
    "print_p = html_tag('p')\n",
    "print_p('Test Paragraph! ')\n"
   ]
  }
 ],
 "metadata": {
  "kernelspec": {
   "display_name": "Python 3.10.1 64-bit",
   "language": "python",
   "name": "python3"
  },
  "language_info": {
   "codemirror_mode": {
    "name": "ipython",
    "version": 3
   },
   "file_extension": ".py",
   "mimetype": "text/x-python",
   "name": "python",
   "nbconvert_exporter": "python",
   "pygments_lexer": "ipython3",
   "version": "3.10.1"
  },
  "orig_nbformat": 4,
  "vscode": {
   "interpreter": {
    "hash": "aee8b7b246df8f9039afb4144a1f6fd8d2ca17a180786b69acc140d282b71a49"
   }
  }
 },
 "nbformat": 4,
 "nbformat_minor": 2
}
