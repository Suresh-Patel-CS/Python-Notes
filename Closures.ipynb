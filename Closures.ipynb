{
 "cells": [
  {
   "cell_type": "markdown",
   "metadata": {},
   "source": [
    "URL: https://www.youtube.com/watch?v=swU3c34d2NQ&ab_channel=CoreySchafer"
   ]
  },
  {
   "cell_type": "markdown",
   "metadata": {},
   "source": [
    "Wikipedia: \"A closure is a record storing a function together with an environment: a mapping associating each free variable of the functio with the value or storage location to which the name was bound when the closure was created. A closure, unlike a plain function, allows the function to access those captured variables through the closure's reference to them, even when the function is invoked outside their scope."
   ]
  },
  {
   "cell_type": "markdown",
   "metadata": {},
   "source": [
    "Background info on code: As you see the outer_func() function does not take in any arguments. It takes the 'Hi' string and set it to the message variabble. There is an innerfunction that simply prints the message variable. \n",
    " \n",
    "Knowledge: When the inner function accesses the message variable it os called a free variable since it is not actually defined in the inner function but still accessible to the inner function. "
   ]
  },
  {
   "cell_type": "code",
   "execution_count": null,
   "metadata": {},
   "outputs": [],
   "source": [
    "def outer_func():\n",
    "    message = 'Hi'\n",
    "\n",
    "    def inner_func():\n",
    "        print(message)\n",
    "\n",
    "    return inner_func()\n",
    "\n",
    "outer_func()"
   ]
  },
  {
   "cell_type": "markdown",
   "metadata": {},
   "source": [
    "Background info on code: So same code as above except now we are just returning the inner_func with out intialzing hence no parenthiss to the my_func variable without any parenthsis again because we are not trying to intialzie.\n",
    "\n",
    "Knowledge: This is just a highclass function now as the my_func is now the same as the outer_funcO() function. Which you can by running the code below as you will see the value of the location of outer_func and running my_function: will return 'Hi'"
   ]
  },
  {
   "cell_type": "code",
   "execution_count": 6,
   "metadata": {},
   "outputs": [
    {
     "name": "stdout",
     "output_type": "stream",
     "text": [
      "inner_func\n",
      "Hi\n"
     ]
    }
   ],
   "source": [
    "def outer_func():\n",
    "    message = 'Hi'\n",
    "\n",
    "    def inner_func():\n",
    "        print(message)\n",
    "\n",
    "    return inner_func\n",
    "\n",
    "outer_func()\n",
    "my_func = outer_func()\n",
    "print(my_func.__name__)\n",
    "my_func()"
   ]
  },
  {
   "cell_type": "markdown",
   "metadata": {},
   "source": [
    "Background info on code: This code is an example of closure at work it is the same code as above. After running this code notice how my_func() which is now the same thing as inner_func() look at the code above to see that. \n",
    "\n",
    "Knowledge: A closure is an inner function that remembers and has access to variables in the local scope in which it was created even after the outer function has finished executing. So in this scenario my_func() being able to run and calling the var message and using it even tho that var was created in the outer function demonstartes a closure."
   ]
  },
  {
   "cell_type": "code",
   "execution_count": 5,
   "metadata": {},
   "outputs": [
    {
     "name": "stdout",
     "output_type": "stream",
     "text": [
      "Hi\n",
      "None\n",
      "Hi\n",
      "Hi\n"
     ]
    }
   ],
   "source": [
    "def outer_func():\n",
    "    message = 'Hi'\n",
    "\n",
    "    def inner_func():\n",
    "        print(message)\n",
    "\n",
    "    return inner_func\n",
    "\n",
    "my_func = outer_func()\n",
    "print(my_func())\n",
    "my_func()\n",
    "my_func()"
   ]
  },
  {
   "cell_type": "markdown",
   "metadata": {},
   "source": [
    "Background info on code: The only changes to the code were to the outer_func() function which now takes in the argument of msg which than assigned to the variable message.\n",
    "\n",
    "Knowledge: As you can see that both hi_func() and hello_func() still remember their own message variable. A clousure covers over the free variables from their enviorment in this scennario message would be that variable"
   ]
  },
  {
   "cell_type": "code",
   "execution_count": null,
   "metadata": {},
   "outputs": [],
   "source": [
    "def outer_func(msg):\n",
    "    message = msg\n",
    "\n",
    "    def inner_func():\n",
    "        print(message)\n",
    "\n",
    "    return inner_func\n",
    "\n",
    "hi_func = outer_func('Hi')\n",
    "hello_func = outer_func('Hello')\n",
    "hi_func()\n",
    "hello_func()"
   ]
  },
  {
   "cell_type": "markdown",
   "metadata": {},
   "source": [
    "Background info on code: From First Class Functions notebook same thing as one in video just for python. Here is function that create html tags for info look at the original document for a background on code. \n",
    "\n",
    "Knowledge: Another example of looking at how closures remember their free variables. "
   ]
  },
  {
   "cell_type": "code",
   "execution_count": null,
   "metadata": {},
   "outputs": [],
   "source": [
    "def html_tag(tag):\n",
    "\n",
    "    def wrap_text(msg):\n",
    "        print('<{0}>{1}</{0}>'.format(tag, msg) )\n",
    "\n",
    "    return wrap_text\n",
    "\n",
    "print_h1 = html_tag('h1')\n",
    "print(print_h1)\n",
    "print_h1('Test Headline! ')\n",
    "print_h1('Another Headline! ')\n",
    "\n",
    "print_p = html_tag('p')\n",
    "print_p('Test Paragraph! ')"
   ]
  },
  {
   "cell_type": "markdown",
   "metadata": {},
   "source": [
    "Background info on code: Here is a more pratical and complex application of closures. Logger(func) function is the outer function which takes in the func variable as its parameter. The inner function is the log_func(*args) function takes in any number of arguments using '*args'. Inside the log_func(*args) function it is logging that it ran the function with the arguments. It prints out the argument used with the funciton aftewards it will excute the function and print it to the console and finally return the log_func. Below are 2 basic add() and sub() functions. \n",
    "\n",
    "Knowledge: Notice how the sub_logger() and add_logger() closures works by setting itself equalt to  logger(add or sub) which now means all the logiing and adding is getting done in a more effiecent way. "
   ]
  },
  {
   "cell_type": "code",
   "execution_count": 8,
   "metadata": {},
   "outputs": [
    {
     "name": "stdout",
     "output_type": "stream",
     "text": [
      "6\n",
      "9\n",
      "5\n",
      "10\n"
     ]
    }
   ],
   "source": [
    "import logging\n",
    "logging.basicConfig(filename='example.log', level=logging.INFO)\n",
    "\n",
    "def logger(func):\n",
    "    def log_func(*args):\n",
    "        logging.info('Running \"{}\" with arguments {}'.format(func.__name__, args))\n",
    "        print(func(*args))\n",
    "    return log_func\n",
    "\n",
    "def add(x, y):\n",
    "    return x+y\n",
    "\n",
    "def sub(x, y):\n",
    "    return x-y\n",
    "\n",
    "add_logger = logger(add)\n",
    "sub_logger = logger(sub)\n",
    "\n",
    "add_logger(3, 3)\n",
    "add_logger(4, 5)\n",
    "\n",
    "sub_logger(10, 5)\n",
    "sub_logger(20, 10)\n",
    "\f"
   ]
  }
 ],
 "metadata": {
  "kernelspec": {
   "display_name": "Python 3.10.1 64-bit",
   "language": "python",
   "name": "python3"
  },
  "language_info": {
   "codemirror_mode": {
    "name": "ipython",
    "version": 3
   },
   "file_extension": ".py",
   "mimetype": "text/x-python",
   "name": "python",
   "nbconvert_exporter": "python",
   "pygments_lexer": "ipython3",
   "version": "3.10.1"
  },
  "orig_nbformat": 4,
  "vscode": {
   "interpreter": {
    "hash": "aee8b7b246df8f9039afb4144a1f6fd8d2ca17a180786b69acc140d282b71a49"
   }
  }
 },
 "nbformat": 4,
 "nbformat_minor": 2
}
